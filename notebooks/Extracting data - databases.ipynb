{
 "cells": [
  {
   "cell_type": "code",
   "execution_count": 2,
   "metadata": {},
   "outputs": [],
   "source": [
    "# import sqlite3 package\n",
    "import sqlite3"
   ]
  },
  {
   "cell_type": "code",
   "execution_count": 14,
   "metadata": {},
   "outputs": [],
   "source": [
    "# create a connection to a database : create the database if not available\n",
    "connection = sqlite3.connect(\"classroomDB.db\")\n",
    "connection.close()"
   ]
  },
  {
   "cell_type": "code",
   "execution_count": 22,
   "metadata": {},
   "outputs": [],
   "source": [
    "connection = sqlite3.connect(\"classroomDB.db\")\n",
    "cursor = connection.cursor()\n",
    "create_table = \"\"\"\n",
    "                CREATE Table classroom (\n",
    "                student_id INTEGER PRIMARY KEY,\n",
    "                name VARCHAR(20),\n",
    "                gender CHAR(1),\n",
    "                physics_marks INTEGER,\n",
    "                chemistry_marks INTEGER,\n",
    "                mathematics_marks INTEGER\n",
    "                );\n",
    "\"\"\"\n",
    "drop_table = \"\"\"\n",
    "DROP TABLE classroom;\n",
    "\"\"\"\n",
    "cursor.execute(create_table)\n",
    "# cursor.execute(drop_table)\n",
    "#cursor.execute(\"select * from classroom\")\n",
    "connection.commit()\n",
    "connection.close()"
   ]
  },
  {
   "cell_type": "code",
   "execution_count": 23,
   "metadata": {},
   "outputs": [],
   "source": [
    "# sample data\n",
    "classroom_data = [( 1, \"Raj\",\"M\", 70, 84, 92),\n",
    "                  ( 2, \"Poonam\",\"F\", 87, 69, 93),\n",
    "                  ( 3, \"Nik\",\"M\", 65, 83, 90),\n",
    "                  ( 4, \"Rahul\",\"F\", 83, 76, 89)]\n",
    "# open connection\n",
    "connection = sqlite3.connect(\"classroomDB.db\")\n",
    "# open cursor\n",
    "cursor = connection.cursor()\n",
    "# insert each student record\n",
    "for student in classroom_data:\n",
    "    # formatted query string\n",
    "    insert_statement = \"\"\"INSERT INTO classroom \n",
    "                      (student_id, name, gender, physics_marks, chemistry_marks, mathematics_marks)\n",
    "                      VALUES \n",
    "                      ({0}, \"{1}\", \"{2}\", {3}, {4}, {5});\"\"\".format(student[0], student[1], student[2], \n",
    "                                                              student[3],student[4], student[5])\n",
    "    # execute insert query\n",
    "    cursor.execute(insert_statement)\n",
    "\n",
    "# commit the changes\n",
    "connection.commit()\n",
    "# close the connection\n",
    "connection.close()"
   ]
  },
  {
   "cell_type": "code",
   "execution_count": 24,
   "metadata": {},
   "outputs": [
    {
     "name": "stdout",
     "output_type": "stream",
     "text": [
      "(1, 'Raj', 'M', 70, 84, 92)\n",
      "(2, 'Poonam', 'F', 87, 69, 93)\n",
      "(3, 'Nik', 'M', 65, 83, 90)\n",
      "(4, 'Rahul', 'F', 83, 76, 89)\n"
     ]
    }
   ],
   "source": [
    "# open connection\n",
    "connection = sqlite3.connect(\"classroomDB.db\")\n",
    "# open cursor\n",
    "cursor = connection.cursor()\n",
    "# query\n",
    "query = \"SELECT * FROM classroom\"\n",
    "# execute query\n",
    "cursor.execute(query) \n",
    "# fetch results\n",
    "result = cursor.fetchall() \n",
    "# print results\n",
    "for row in result:\n",
    "    print(row)\n",
    "# close connection\n",
    "connection.close()"
   ]
  },
  {
   "cell_type": "markdown",
   "metadata": {},
   "source": [
    "# My sql database"
   ]
  },
  {
   "cell_type": "markdown",
   "metadata": {},
   "source": [
    "## install package"
   ]
  },
  {
   "cell_type": "code",
   "execution_count": 25,
   "metadata": {},
   "outputs": [
    {
     "name": "stdout",
     "output_type": "stream",
     "text": [
      "Solving environment: ...working... done\n",
      "\n",
      "## Package Plan ##\n",
      "\n",
      "  environment location: C:\\Users\\Nadav\\Anaconda3\n",
      "\n",
      "  added / updated specs: \n",
      "    - pymysql\n",
      "\n",
      "\n",
      "The following packages will be downloaded:\n",
      "\n",
      "    package                    |            build\n",
      "    ---------------------------|-----------------\n",
      "    pymysql-0.8.0              |           py36_0         130 KB\n",
      "\n",
      "The following NEW packages will be INSTALLED:\n",
      "\n",
      "    pymysql: 0.8.0-py36_0\n",
      "\n",
      "Preparing transaction: ...working... done\n",
      "Verifying transaction: ...working... done\n",
      "Executing transaction: ...working... done\n"
     ]
    },
    {
     "name": "stderr",
     "output_type": "stream",
     "text": [
      "\n",
      "\n",
      "==> WARNING: A newer version of conda exists. <==\n",
      "  current version: 4.4.10\n",
      "  latest version: 4.5.0\n",
      "\n",
      "Please update conda by running\n",
      "\n",
      "    $ conda update -n base conda\n",
      "\n",
      "\n"
     ]
    }
   ],
   "source": [
    "!conda install -y -q pymysql"
   ]
  },
  {
   "cell_type": "code",
   "execution_count": 26,
   "metadata": {},
   "outputs": [],
   "source": [
    "#import package\n",
    "import pymysql"
   ]
  },
  {
   "cell_type": "markdown",
   "metadata": {},
   "source": [
    "### connect to database"
   ]
  },
  {
   "cell_type": "code",
   "execution_count": 29,
   "metadata": {},
   "outputs": [],
   "source": [
    "# Connection details\n",
    "\n",
    "cnx= {'host': 'titanic.cr4famdwl9cg.us-west-2.rds.amazonaws.com',\n",
    "      'username': 'username',\n",
    "      'password': 'password',\n",
    "      'db': 'titanicDB'}       \n",
    "        \n",
    "\n",
    "# Connect to the database\n",
    "connection = pymysql.connect(cnx['host'],cnx['username'],cnx['password'],cnx['db'] )\n",
    "\n",
    "# close database\n",
    "connection.close()"
   ]
  },
  {
   "cell_type": "markdown",
   "metadata": {},
   "source": [
    "### create table"
   ]
  },
  {
   "cell_type": "code",
   "execution_count": 30,
   "metadata": {},
   "outputs": [],
   "source": [
    "# open connection\n",
    "connection = pymysql.connect(cnx['host'],cnx['username'],cnx['password'],cnx['db'] )\n",
    "# open cursor\n",
    "cursor = connection.cursor()\n",
    "# query for creating table\n",
    "create_table = \"\"\"\n",
    "                CREATE TABLE classroom ( \n",
    "                student_id INTEGER PRIMARY KEY, \n",
    "                name VARCHAR(20), \n",
    "                gender CHAR(1), \n",
    "                physics_marks INTEGER,\n",
    "                chemistry_marks INTEGER,\n",
    "                mathematics_marks INTEGER\n",
    "              );\"\"\"\n",
    "# execute query\n",
    "cursor.execute(create_table)\n",
    "# commit changes\n",
    "connection.commit()\n",
    "# close connection\n",
    "connection.close()"
   ]
  },
  {
   "cell_type": "markdown",
   "metadata": {},
   "source": [
    "### insert data"
   ]
  },
  {
   "cell_type": "code",
   "execution_count": 31,
   "metadata": {},
   "outputs": [],
   "source": [
    "# sample data\n",
    "classroom_data = [( 1, \"Raj\",\"M\", 70, 84, 92),\n",
    "                  ( 2, \"Poonam\",\"F\", 87, 69, 93),\n",
    "                  ( 3, \"Nik\",\"M\", 65, 83, 90),\n",
    "                  ( 4, \"Rahul\",\"F\", 83, 76, 89)]\n",
    "# open connection\n",
    "connection = pymysql.connect(cnx['host'],cnx['username'],cnx['password'],cnx['db'] )\n",
    "# open cursor\n",
    "cursor = connection.cursor()\n",
    "# insert each student record\n",
    "for student in classroom_data:\n",
    "    # formatted query string\n",
    "    insert_statement = \"\"\"INSERT INTO classroom \n",
    "                      (student_id, name, gender, physics_marks, chemistry_marks, mathematics_marks)\n",
    "                      VALUES \n",
    "                      ({0}, \"{1}\", \"{2}\", {3}, {4}, {5});\"\"\".format(student[0], student[1], student[2], \n",
    "                                                              student[3],student[4], student[5])\n",
    "    # execute insert query\n",
    "    cursor.execute(insert_statement)\n",
    "\n",
    "# commit the changes\n",
    "connection.commit()\n",
    "# close the connection\n",
    "connection.close()"
   ]
  },
  {
   "cell_type": "markdown",
   "metadata": {},
   "source": [
    "### Extract data"
   ]
  },
  {
   "cell_type": "code",
   "execution_count": 32,
   "metadata": {},
   "outputs": [
    {
     "name": "stdout",
     "output_type": "stream",
     "text": [
      "(1, 'Raj', 'M', 70, 84, 92)\n",
      "(2, 'Poonam', 'F', 87, 69, 93)\n",
      "(3, 'Nik', 'M', 65, 83, 90)\n",
      "(4, 'Rahul', 'F', 83, 76, 89)\n"
     ]
    }
   ],
   "source": [
    "# open connection\n",
    "connection = pymysql.connect(cnx['host'],cnx['username'],cnx['password'],cnx['db'] )\n",
    "# open cursor\n",
    "cursor = connection.cursor()\n",
    "# query\n",
    "query = \"SELECT * FROM classroom\"\n",
    "# execute query\n",
    "cursor.execute(query) \n",
    "# fetch results\n",
    "result = cursor.fetchall() \n",
    "# print results\n",
    "for row in result:\n",
    "    print(row)\n",
    "# close connection\n",
    "connection.close()"
   ]
  },
  {
   "cell_type": "markdown",
   "metadata": {},
   "source": [
    "## MS SQL Database"
   ]
  },
  {
   "cell_type": "code",
   "execution_count": 34,
   "metadata": {},
   "outputs": [
    {
     "name": "stdout",
     "output_type": "stream",
     "text": [
      "Solving environment: ...working... failed\n"
     ]
    },
    {
     "name": "stderr",
     "output_type": "stream",
     "text": [
      "\n",
      "UnsatisfiableError: The following specifications were found to be in conflict:\n",
      "  - pymssql\n",
      "  - zict\n",
      "Use \"conda info <package>\" to see the dependencies for each package.\n",
      "\n"
     ]
    }
   ],
   "source": [
    "!conda install -y -q pymssql"
   ]
  },
  {
   "cell_type": "code",
   "execution_count": 35,
   "metadata": {},
   "outputs": [
    {
     "ename": "ModuleNotFoundError",
     "evalue": "No module named 'pymssql'",
     "output_type": "error",
     "traceback": [
      "\u001b[1;31m---------------------------------------------------------------------------\u001b[0m",
      "\u001b[1;31mModuleNotFoundError\u001b[0m                       Traceback (most recent call last)",
      "\u001b[1;32m<ipython-input-35-8bfe35d71b99>\u001b[0m in \u001b[0;36m<module>\u001b[1;34m()\u001b[0m\n\u001b[1;32m----> 1\u001b[1;33m \u001b[1;32mimport\u001b[0m \u001b[0mpymssql\u001b[0m\u001b[1;33m\u001b[0m\u001b[0m\n\u001b[0m",
      "\u001b[1;31mModuleNotFoundError\u001b[0m: No module named 'pymssql'"
     ]
    }
   ],
   "source": [
    "import pymssql"
   ]
  },
  {
   "cell_type": "code",
   "execution_count": 36,
   "metadata": {},
   "outputs": [
    {
     "name": "stdout",
     "output_type": "stream",
     "text": [
      "\n",
      "pymssql 2.1.3 py27_0\n",
      "--------------------\n",
      "file name   : pymssql-2.1.3-py27_0.tar.bz2\n",
      "name        : pymssql\n",
      "version     : 2.1.3\n",
      "build string: py27_0\n",
      "build number: 0\n",
      "channel     : https://repo.continuum.io/pkgs/free/win-64\n",
      "size        : 310 KB\n",
      "arch        : x86_64\n",
      "constrains  : ()\n",
      "date        : 2016-09-06\n",
      "license     : GNU Library or Lesser General Public License (LGPL)\n",
      "license_family: LGPL\n",
      "md5         : 4ed1b401ce9d7628837778d8a17e83b5\n",
      "platform    : win32\n",
      "subdir      : win-64\n",
      "url         : https://repo.continuum.io/pkgs/free/win-64/pymssql-2.1.3-py27_0.tar.bz2\n",
      "dependencies:\n",
      "    freetds >=1.00.9\n",
      "    python 2.7*\n",
      "\n",
      "pymssql 2.1.3 py34_0\n",
      "--------------------\n",
      "file name   : pymssql-2.1.3-py34_0.tar.bz2\n",
      "name        : pymssql\n",
      "version     : 2.1.3\n",
      "build string: py34_0\n",
      "build number: 0\n",
      "channel     : https://repo.continuum.io/pkgs/free/win-64\n",
      "size        : 306 KB\n",
      "arch        : x86_64\n",
      "constrains  : ()\n",
      "date        : 2016-09-06\n",
      "license     : GNU Library or Lesser General Public License (LGPL)\n",
      "license_family: LGPL\n",
      "md5         : 352040536650d2d87507d48b9309953e\n",
      "platform    : win32\n",
      "subdir      : win-64\n",
      "url         : https://repo.continuum.io/pkgs/free/win-64/pymssql-2.1.3-py34_0.tar.bz2\n",
      "dependencies:\n",
      "    freetds >=1.00.9\n",
      "    python 3.4*\n",
      "\n",
      "pymssql 2.1.3 py35_0\n",
      "--------------------\n",
      "file name   : pymssql-2.1.3-py35_0.tar.bz2\n",
      "name        : pymssql\n",
      "version     : 2.1.3\n",
      "build string: py35_0\n",
      "build number: 0\n",
      "channel     : https://repo.continuum.io/pkgs/free/win-64\n",
      "size        : 301 KB\n",
      "arch        : x86_64\n",
      "constrains  : ()\n",
      "date        : 2016-09-06\n",
      "license     : GNU Library or Lesser General Public License (LGPL)\n",
      "license_family: LGPL\n",
      "md5         : a8c9fa5a8268ad197a6cb4d763e810f6\n",
      "platform    : win32\n",
      "subdir      : win-64\n",
      "url         : https://repo.continuum.io/pkgs/free/win-64/pymssql-2.1.3-py35_0.tar.bz2\n",
      "dependencies:\n",
      "    freetds >=1.00.9\n",
      "    python 3.5*\n"
     ]
    }
   ],
   "source": [
    "!conda info pymssql"
   ]
  },
  {
   "cell_type": "code",
   "execution_count": null,
   "metadata": {},
   "outputs": [],
   "source": []
  },
  {
   "cell_type": "code",
   "execution_count": null,
   "metadata": {},
   "outputs": [],
   "source": []
  }
 ],
 "metadata": {
  "kernelspec": {
   "display_name": "Python 3",
   "language": "python",
   "name": "python3"
  },
  "language_info": {
   "codemirror_mode": {
    "name": "ipython",
    "version": 3
   },
   "file_extension": ".py",
   "mimetype": "text/x-python",
   "name": "python",
   "nbconvert_exporter": "python",
   "pygments_lexer": "ipython3",
   "version": "3.6.4"
  }
 },
 "nbformat": 4,
 "nbformat_minor": 2
}
